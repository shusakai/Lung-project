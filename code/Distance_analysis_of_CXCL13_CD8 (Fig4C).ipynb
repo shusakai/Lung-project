{
 "cells": [
  {
   "cell_type": "markdown",
   "id": "ebf82f30-9b90-4fce-8ff1-84c8c05b79a5",
   "metadata": {},
   "source": [
    "# 20231203_pixel_to_graph"
   ]
  },
  {
   "cell_type": "code",
   "execution_count": 2,
   "id": "e07c244b-933b-4fbe-9b15-71731f65aeaf",
   "metadata": {},
   "outputs": [],
   "source": [
    "# load library\n",
    "import stlearn as st\n",
    "import scanpy as sc\n",
    "import squidpy as sq\n",
    "import numpy as np\n",
    "import matplotlib.pyplot as plt\n",
    "import matplotlib\n",
    "import cv2\n",
    "import pandas as pd\n",
    "import scipy.stats\n",
    "import seaborn as sns\n",
    "import plotly.express as px\n",
    "from PIL import Image\n",
    "import networkx as nx\n",
    "import math"
   ]
  },
  {
   "cell_type": "markdown",
   "id": "f79bd90d-5bfa-41c1-acda-e70b9a9b353b",
   "metadata": {},
   "source": [
    "## Convertion from Xenium data to grids"
   ]
  },
  {
   "cell_type": "code",
   "execution_count": 3,
   "id": "e66ef6f2-8d0f-421e-a8de-3788a18405a8",
   "metadata": {},
   "outputs": [],
   "source": [
    "# load the data\n",
    "xenium_path = \"/Volumes/Project/home/sakai/scRNA/20230518_Xenium/DATA/Xenium_Outputs/output-XETG00053__0003973__SQUAT-Case7__20230502__074131\"\n",
    "\n",
    "adata = st.ReadXenium(feature_cell_matrix_file=f\"{xenium_path}/cell_feature_matrix.h5\",\n",
    "                     cell_summary_file=f\"{xenium_path}/cells.csv.gz\",\n",
    "                     library_id=\"Case7_after_lung_panel\",\n",
    "                     image_path=None,\n",
    "                     scale=1,\n",
    "                     spot_diameter_fullres=10\n",
    "                     )"
   ]
  },
  {
   "cell_type": "code",
   "execution_count": 4,
   "id": "1ddbd97c-11e8-43f5-9cfe-7744888d9d1c",
   "metadata": {},
   "outputs": [
    {
     "name": "stdout",
     "output_type": "stream",
     "text": [
      "Gridding...\n"
     ]
    },
    {
     "name": "stderr",
     "output_type": "stream",
     "text": [
      "OMP: Info #276: omp_set_nested routine deprecated, please use omp_set_max_active_levels instead.\n"
     ]
    }
   ],
   "source": [
    "# Gridding at 10μm interval\n",
    "N_COL = int((adata.obs.imagecol.max() - adata.obs.imagecol.min()) / 10)\n",
    "N_ROW = int((adata.obs.imagerow.max() - adata.obs.imagerow.min()) / 10)\n",
    "\n",
    "# Gridding\n",
    "grid = st.tl.cci.grid(adata, n_row=N_ROW, n_col=N_COL)"
   ]
  },
  {
   "cell_type": "markdown",
   "id": "08810193-c490-4854-8884-4c79a0b8411a",
   "metadata": {},
   "source": [
    "## Extract tumor grids"
   ]
  },
  {
   "cell_type": "code",
   "execution_count": 6,
   "id": "79d6b3b9-323c-4291-946b-3b54b88b0dcd",
   "metadata": {},
   "outputs": [],
   "source": [
    "# Extract CDH1 count\n",
    "df_grid_cdh1 = grid.to_df()[[\"CDH1\"]]\n",
    "\n",
    "# complement nan grid\n",
    "df_grid_cdh1 = pd.merge(\n",
    "    pd.DataFrame(index=[\"grid_\" + str(i+1) for i in range(N_ROW * N_COL)]), \n",
    "    df_grid_cdh1, right_index=True, left_index=True, how=\"left\"\n",
    ").fillna(0)\n",
    "\n",
    "# Extract SFTPB count\n",
    "df_grid_SFTPB = grid.to_df()[[\"SFTPB\"]]\n",
    "\n",
    "# complement nan grid\n",
    "df_grid_SFTPB = pd.merge(\n",
    "    pd.DataFrame(index=[\"grid_\" + str(i+1) for i in range(N_ROW * N_COL)]), \n",
    "    df_grid_SFTPB, right_index=True, left_index=True, how=\"left\"\n",
    ").fillna(0)\n",
    "\n",
    "# Extract SFTPC count\n",
    "df_grid_SFTPC = grid.to_df()[[\"SFTPC\"]]\n",
    "\n",
    "# complement nan grid\n",
    "df_grid_SFTPC = pd.merge(\n",
    "    pd.DataFrame(index=[\"grid_\" + str(i+1) for i in range(N_ROW * N_COL)]), \n",
    "    df_grid_SFTPC, right_index=True, left_index=True, how=\"left\"\n",
    ").fillna(0)\n",
    "\n",
    "# Extract SFTPD count\n",
    "df_grid_SFTPD = grid.to_df()[[\"SFTPD\"]]\n",
    "\n",
    "# complement nan grid\n",
    "df_grid_SFTPD = pd.merge(\n",
    "    pd.DataFrame(index=[\"grid_\" + str(i+1) for i in range(N_ROW * N_COL)]), \n",
    "    df_grid_SFTPD, right_index=True, left_index=True, how=\"left\"\n",
    ").fillna(0)\n",
    "\n",
    "df_grid_cdh1[\"CDH1\"] = [1 if i>=1 else -1 for i in df_grid_cdh1[\"CDH1\"]]\n",
    "df_grid_SFTPB[\"SFTPB\"] = [1 if i>=1 else -1 for i in df_grid_SFTPB[\"SFTPB\"]]\n",
    "df_grid_SFTPC[\"SFTPC\"] = [1 if i>=1 else -1 for i in df_grid_SFTPC[\"SFTPC\"]]\n",
    "df_grid_SFTPD[\"SFTPD\"] = [1 if i>=1 else -1 for i in df_grid_SFTPD[\"SFTPD\"]]"
   ]
  },
  {
   "cell_type": "code",
   "execution_count": 8,
   "id": "e7897006-d6e6-4a19-b535-e3531fc26389",
   "metadata": {},
   "outputs": [],
   "source": [
    "# Extract CDH1 count\n",
    "df_grid_cdh1 = grid.to_df()[[\"CDH1\"]]\n",
    "\n",
    "# complement nan grid\n",
    "df_grid_cdh1 = pd.merge(\n",
    "    pd.DataFrame(index=[\"grid_\" + str(i+1) for i in range(N_ROW * N_COL)]), \n",
    "    df_grid_cdh1, right_index=True, left_index=True, how=\"left\"\n",
    ").fillna(0)\n",
    "\n",
    "# Extract SFTPB count\n",
    "df_grid_SFTPB = grid.to_df()[[\"SFTPB\"]]\n",
    "\n",
    "# complement nan grid\n",
    "df_grid_SFTPB = pd.merge(\n",
    "    pd.DataFrame(index=[\"grid_\" + str(i+1) for i in range(N_ROW * N_COL)]), \n",
    "    df_grid_SFTPB, right_index=True, left_index=True, how=\"left\"\n",
    ").fillna(0)\n",
    "\n",
    "# Extract SFTPC count\n",
    "df_grid_SFTPC = grid.to_df()[[\"SFTPC\"]]\n",
    "\n",
    "# complement nan grid\n",
    "df_grid_SFTPC = pd.merge(\n",
    "    pd.DataFrame(index=[\"grid_\" + str(i+1) for i in range(N_ROW * N_COL)]), \n",
    "    df_grid_SFTPC, right_index=True, left_index=True, how=\"left\"\n",
    ").fillna(0)\n",
    "\n",
    "# Extract SFTPD count\n",
    "df_grid_SFTPD = grid.to_df()[[\"SFTPD\"]]\n",
    "\n",
    "# complement nan grid\n",
    "df_grid_SFTPD = pd.merge(\n",
    "    pd.DataFrame(index=[\"grid_\" + str(i+1) for i in range(N_ROW * N_COL)]), \n",
    "    df_grid_SFTPD, right_index=True, left_index=True, how=\"left\"\n",
    ").fillna(0)\n",
    "\n",
    "df_grid_cdh1[\"CDH1\"] = [1 if i>=1 else 0 for i in df_grid_cdh1[\"CDH1\"]]\n",
    "df_grid_SFTPB[\"SFTPB\"] = [1 if i>=1 else 0 for i in df_grid_SFTPB[\"SFTPB\"]]\n",
    "df_grid_SFTPC[\"SFTPC\"] = [1 if i>=1 else 0 for i in df_grid_SFTPC[\"SFTPC\"]]\n",
    "df_grid_SFTPD[\"SFTPD\"] = [1 if i>=1 else 0 for i in df_grid_SFTPD[\"SFTPD\"]]\n",
    "\n",
    "# define tumor region\n",
    "df_grid_cdh1[\"CDH1\"] = df_grid_cdh1[\"CDH1\"] - df_grid_SFTPB[\"SFTPB\"] - df_grid_SFTPC[\"SFTPC\"] - df_grid_SFTPD[\"SFTPD\"]\n",
    "df_grid_cdh1[\"CDH1\"] = [-1 if i==0 else i for i in df_grid_cdh1[\"CDH1\"]]"
   ]
  },
  {
   "cell_type": "markdown",
   "id": "b0ca7bfe-ee8d-4e2e-b193-0f3a36fbd9b9",
   "metadata": {},
   "source": [
    "## Delineation of tumor surface"
   ]
  },
  {
   "cell_type": "code",
   "execution_count": 10,
   "id": "9d57564c-a538-4dd9-86f1-095763d66ba1",
   "metadata": {},
   "outputs": [
    {
     "data": {
      "text/plain": [
       "True"
      ]
     },
     "execution_count": 10,
     "metadata": {},
     "output_type": "execute_result"
    }
   ],
   "source": [
    "# median filter\n",
    "img_cdh1_path = \"./cdh1_density.png\"\n",
    "img_cdh1 = cv2.imread(img_cdh1_path)\n",
    "img_cdh1_med = cv2.medianBlur(img_cdh1, ksize=3)\n",
    "\n",
    "# save\n",
    "cv2.imwrite(\"cdh1_density_median.png\", img_cdh1_med)\n",
    "# save zoom\n",
    "#cv2.imwrite(\"cdh1_density_median_zoom.png\", img_cdh1_med[300: 480, 400 : 580])"
   ]
  },
  {
   "cell_type": "code",
   "execution_count": 11,
   "id": "a569fa07-f3f4-468e-8b7e-efb51dd679ff",
   "metadata": {},
   "outputs": [
    {
     "data": {
      "text/plain": [
       "True"
      ]
     },
     "execution_count": 11,
     "metadata": {},
     "output_type": "execute_result"
    }
   ],
   "source": [
    "# delineation\n",
    "img = \"./cdh1_density_median.png\"\n",
    "threshold = 90 #二値化に用いる閾値\n",
    "#threshold = 30 #二値化に用いる閾値\n",
    "\n",
    "# glay scale\n",
    "img_color = cv2.imread(img)\n",
    "img_gray = cv2.imread(img,cv2.IMREAD_GRAYSCALE)\n",
    "img_blur = cv2.blur(img_gray,(3,3))\n",
    "\n",
    "# delineation\n",
    "ret, img_binary = cv2.threshold(img_blur, threshold, 255, cv2.THRESH_BINARY)\n",
    "contours, hierarchy = cv2.findContours(img_binary, cv2.RETR_TREE, cv2.CHAIN_APPROX_SIMPLE)\n",
    "\n",
    "contours_ = []\n",
    "# check each delineation\n",
    "for i, s in zip(contours, hierarchy[0]):\n",
    "    # select top of hierarchy polygon\n",
    "    if s[-1] == -1:\n",
    "        #img_color_with_contours = cv2.drawContours(img_color, i, -1, (0,255,0), 1)\n",
    "        contours_ += [i]\n",
    "\n",
    "img_color_with_contours = cv2.drawContours(img_color, contours_, -1, (0,255,0), 1)\n",
    "# save\n",
    "cv2.imwrite(\"cdh1_density_delineation.png\", img_color_with_contours)\n",
    "# save zoom\n",
    "#cv2.imwrite(\"cdh1_density_delineation_zoom.png\", img_color_with_contours[300: 480, 400 : 580])"
   ]
  },
  {
   "cell_type": "markdown",
   "id": "953db910-a3b5-4c46-a6a0-13f6fa03faf0",
   "metadata": {},
   "source": [
    "## Conversion from grids to graph"
   ]
  },
  {
   "cell_type": "code",
   "execution_count": 12,
   "id": "e6349784-c51c-411d-9bf0-a9bce7555052",
   "metadata": {},
   "outputs": [],
   "source": [
    "# 画像を読み込む\n",
    "image = Image.open(\"cdh1_density_delineation.png\")\n",
    "\n",
    "# 画像サイズを取得\n",
    "width, height = image.size\n",
    "\n",
    "# 新しい有向グラフを作成\n",
    "graph = nx.Graph()\n",
    "\n",
    "tumor_contour_pixel_ls = []\n",
    "tumor_pixel_ls = []\n",
    "# ピクセルをノードに変換\n",
    "for y in range(height):\n",
    "    for x in range(width):\n",
    "        pixel_value = image.getpixel((x, y))\n",
    "        graph.add_node((x, y), color=pixel_value)\n",
    "\n",
    "        # extract tumor coutour coordination\n",
    "        if pixel_value == (0, 255, 0):\n",
    "            tumor_contour_pixel_ls += [(x, y)]\n",
    "\n",
    "        # extract tumor coordination\n",
    "        elif pixel_value == (253, 231, 36):\n",
    "            tumor_pixel_ls += [(x, y)]\n",
    "\n",
    "# get nodes\n",
    "nodes_ls = graph.nodes\n",
    "nodes_ls = list(nodes_ls)\n",
    "\n",
    "# check node inside contour\n",
    "inside_contour_ls = []\n",
    "for node in nodes_ls:\n",
    "    for i in contours_:\n",
    "        if cv2.pointPolygonTest(i, node, False) == 1:\n",
    "            inside_contour_ls += [node]\n",
    "            break\n",
    "\n",
    "# extract tumor inside contour\n",
    "tumor_pixel_ls = [i for i in tumor_pixel_ls if i in inside_contour_ls]\n",
    "\n",
    "# extract non-tumor inside contour\n",
    "nontumor_pixel_inside_contour_ls = [i for i in inside_contour_ls if i not in tumor_pixel_ls]\n",
    "\n",
    "# 隣接ピクセル間にエッジを作成\n",
    "for y in range(height):\n",
    "    for x in range(width):\n",
    "        current_node = (x, y)\n",
    "        neighbors = [\n",
    "            (x, y - 1),  # 上\n",
    "            (x, y + 1),  # 下\n",
    "            (x - 1, y),  # 左\n",
    "            (x + 1, y)   # 右\n",
    "        ]\n",
    "        # 上下左右のエッジ\n",
    "        for neighbor in neighbors:\n",
    "            if neighbor in graph.nodes:\n",
    "                graph.add_edge(current_node, neighbor)\n",
    "\n",
    "        # 斜めのエッジ\n",
    "        if (y != height) & (x != width):\n",
    "            node1 = (x, y)\n",
    "            node2 = (x + 1, y + 1)\n",
    "\n",
    "            # ノードの座標からユークリッド距離を計算\n",
    "            distance = math.sqrt((node1[0] - node2[0])**2 + (node1[1] - node2[1])**2)\n",
    "            graph.add_edge(node1, node2, weight=distance)\n",
    "\n",
    "            node1 = (x + 1, y)\n",
    "            node2 = (x, y + 1)\n",
    "\n",
    "            # ノードの座標からユークリッド距離を計算\n",
    "            distance = math.sqrt((node1[0] - node2[0])**2 + (node1[1] - node2[1])**2)\n",
    "            graph.add_edge(node1, node2, weight=distance)\n",
    "\n",
    "\n",
    "#remove non-tumor inside contour from graph\n",
    "graph.remove_nodes_from(nontumor_pixel_inside_contour_ls)"
   ]
  },
  {
   "cell_type": "markdown",
   "id": "2074abff-9bb4-4411-884c-93a9bc6324a0",
   "metadata": {},
   "source": [
    "## Calculate distance of each nodes from tumor surface"
   ]
  },
  {
   "cell_type": "code",
   "execution_count": 13,
   "id": "2e94806b-be1e-4516-8464-150a9df943de",
   "metadata": {},
   "outputs": [],
   "source": [
    "# Calculate distance of each nodes from tumor surface\n",
    "# ある一点からの最短距離を計算（cutoff=16）\n",
    "shortest_paths = nx.multi_source_dijkstra(graph, tumor_contour_pixel_ls, cutoff=16, weight=\"weight\")\n",
    "\n",
    "# shotest length from contour\n",
    "df_shotest = pd.DataFrame.from_dict(shortest_paths[0], orient=\"index\", columns=[\"euclidean\"])\n",
    "\n",
    "# negative value for inside contour\n",
    "df_shotest.loc[tumor_pixel_ls] = df_shotest.loc[tumor_pixel_ls] * -1\n",
    "df_shotest[\"euclidean_round\"] = df_shotest[\"euclidean\"].round(0)\n",
    "df_nodes = pd.DataFrame(index=nodes_ls)\n",
    "\n",
    "df_shotest = pd.merge(\n",
    "    df_nodes, df_shotest, right_index=True, left_index=True, how=\"left\"\n",
    ").fillna(np.nan)"
   ]
  },
  {
   "cell_type": "code",
   "execution_count": 14,
   "id": "73d4c0e0-b32e-4a50-81c2-1865482428af",
   "metadata": {},
   "outputs": [],
   "source": [
    "# set the colormap and centre the colorbar\n",
    "import matplotlib.colors as colors\n",
    "class MidpointNormalize(colors.Normalize):\n",
    "\t\"\"\"\n",
    "\tNormalise the colorbar so that diverging bars work there way either side from a prescribed midpoint value)\n",
    "\n",
    "\te.g. im=ax1.imshow(array, norm=MidpointNormalize(midpoint=0.,vmin=-100, vmax=100))\n",
    "\t\"\"\"\n",
    "\tdef __init__(self, vmin=None, vmax=None, midpoint=None, clip=False):\n",
    "\t\tself.midpoint = midpoint\n",
    "\t\tcolors.Normalize.__init__(self, vmin, vmax, clip)\n",
    "\n",
    "\tdef __call__(self, value, clip=None):\n",
    "\t\t# I'm ignoring masked values and all kinds of edge cases to make a\n",
    "\t\t# simple example...\n",
    "\t\tx, y = [self.vmin, self.midpoint, self.vmax], [0, 0.5, 1]\n",
    "\t\treturn np.ma.masked_array(np.interp(value, x, y), np.isnan(value))"
   ]
  },
  {
   "cell_type": "code",
   "execution_count": 251,
   "id": "d88c8626-96d6-4906-b621-86e4db1410c5",
   "metadata": {},
   "outputs": [
    {
     "data": {
      "text/plain": [
       "True"
      ]
     },
     "execution_count": 251,
     "metadata": {},
     "output_type": "execute_result"
    }
   ],
   "source": [
    "# delineation of contours\n",
    "img = \"./shotest.png\"\n",
    "threshold = 90 #二値化に用いる閾値\n",
    "\n",
    "# glay scale\n",
    "img_color = cv2.imread(img)\n",
    "\n",
    "img_color_with_contours = cv2.drawContours(img_color, contours_, -1, (0,0,0), 1)\n",
    "# save\n",
    "cv2.imwrite(\"shotest_delineation.png\", img_color_with_contours)\n",
    "# save zoom\n",
    "cv2.imwrite(\"cdh1_density_delineation_zoom.png\", img_color_with_contours[305: 430, 405 : 530])"
   ]
  },
  {
   "cell_type": "code",
   "execution_count": 252,
   "id": "fd390989-dfc7-44c4-94fb-0d13471335d6",
   "metadata": {},
   "outputs": [
    {
     "data": {
      "text/plain": [
       "True"
      ]
     },
     "execution_count": 252,
     "metadata": {},
     "output_type": "execute_result"
    }
   ],
   "source": [
    "# plot each region\n",
    "col_ls = []\n",
    "for i in df_shotest[\"euclidean_round\"]:\n",
    "    if i == 0:\n",
    "        col_ls += [(0, 255, 0)]\n",
    "        #col_ls += [(0, 0, 255)]\n",
    "    elif i % 3 == 0:\n",
    "        #col_ls += [(0, 255, 255)]\n",
    "        col_ls += [(0, 0, 255)]\n",
    "    else:\n",
    "        col_ls += [(0, 0, 0)]\n",
    "        #col_ls += [(138, 79, 117)]\n",
    "\n",
    "col_arr = np.array(col_ls, dtype=np.uint8).reshape(N_ROW, N_COL, 3)\n",
    "img_color_with_contours = cv2.drawContours(col_arr, contours_, -1, (0,255,0), 1)\n",
    "\n",
    "# save\n",
    "cv2.imwrite(\"shotest_30_delineation.png\", img_color_with_contours)\n",
    "\n",
    "cv2.imwrite(\"shotest_30_delineation_zoom.png\", img_color_with_contours[305: 430, 405 : 530])"
   ]
  },
  {
   "cell_type": "code",
   "execution_count": null,
   "id": "cfef779c-1444-4cf3-b763-937934eaa872",
   "metadata": {},
   "outputs": [],
   "source": []
  },
  {
   "cell_type": "markdown",
   "id": "03834579-3a35-409c-ae7e-094fd99a5ebb",
   "metadata": {},
   "source": [
    "## Region separation"
   ]
  },
  {
   "cell_type": "code",
   "execution_count": 26,
   "id": "810448a2-2dca-40ab-9282-2ad296509c31",
   "metadata": {},
   "outputs": [],
   "source": [
    "# 離散化\n",
    "df_shotest[\"region\"] = pd.cut(\n",
    "    df_shotest.dropna()[\"euclidean\"], \n",
    "    bins=list(range(-15, 16, 3))\n",
    ")"
   ]
  },
  {
   "cell_type": "code",
   "execution_count": 253,
   "id": "f56a1dee-ac3a-4a5e-a969-ca3395e24330",
   "metadata": {},
   "outputs": [],
   "source": [
    "# plot each region\n",
    "for i in df_shotest.dropna().region.value_counts()[df_shotest.dropna().region.value_counts() > 50].sort_index().index:\n",
    "        \n",
    "    col_ls = []\n",
    "    for s in df_shotest[\"region\"]:\n",
    "        if s == i:\n",
    "            col_ls += [(255, 255, 255)]\n",
    "        else:\n",
    "            col_ls += [(0, 0, 0)]\n",
    "    \n",
    "    col_arr = np.array(col_ls, dtype=np.uint8).reshape(N_ROW, N_COL, 3)\n",
    "    img_color_with_contours = cv2.drawContours(col_arr, contours_, -1, (0,255,0), 1)\n",
    "    \n",
    "    # save\n",
    "    #cv2.imwrite(f\"shotest_region_{i}_delineation.png\", img_color_with_contours)\n",
    "\n",
    "    cv2.imwrite(f\"shotest_region_{i}_delineation_zoom.png\", img_color_with_contours[305: 430, 405 : 530])"
   ]
  },
  {
   "cell_type": "markdown",
   "id": "19f432cc-2095-4315-8a16-94c21b8ec601",
   "metadata": {},
   "source": [
    "## Region annotation to expression data of Xenium"
   ]
  },
  {
   "cell_type": "code",
   "execution_count": 30,
   "id": "74cd7ef1-fb0a-4587-85eb-82cd7d1b724b",
   "metadata": {},
   "outputs": [],
   "source": [
    "df_grid = grid.to_df()\n",
    "\n",
    "# complement nan grid\n",
    "df_grid = pd.merge(\n",
    "    pd.DataFrame(index=[\"grid_\" + str(i+1) for i in range(N_ROW * N_COL)]), \n",
    "    df_grid, right_index=True, left_index=True, how=\"left\"\n",
    ").fillna(np.nan)\n",
    "\n",
    "df_region = pd.DataFrame(\n",
    "    np.array(df_shotest[\"region\"]).reshape(N_ROW, N_COL).T.reshape(N_ROW * N_COL), \n",
    "    index=[\"grid_\" + str(i+1) for i in range(N_ROW * N_COL)], columns=[\"region\"]\n",
    ")\n",
    "\n",
    "df_grid_region = pd.merge(\n",
    "    df_grid, df_region, \n",
    "    right_index=True, left_index=True, how=\"left\"\n",
    ")"
   ]
  },
  {
   "cell_type": "markdown",
   "id": "8e972a22-2b73-4026-a68b-770dcc160b2d",
   "metadata": {},
   "source": [
    "## Cell base analysis"
   ]
  },
  {
   "cell_type": "code",
   "execution_count": null,
   "id": "d26def1b-3dd3-4289-832d-99a097e87e9b",
   "metadata": {},
   "outputs": [],
   "source": [
    "# table\n",
    "df_grid = grid.to_df()\n",
    "\n",
    "for i in df_grid.index:\n",
    "    if (df_grid.loc[i, \"CXCL13\"] >= 2) & (df_grid.loc[i, \"CD8A\"] >= 2):\n",
    "        df_grid.loc[i, \"CXCL13+CD8+\"] = 1\n",
    "\n",
    "    elif (df_grid.loc[i, \"CXCL13\"] == 0) & (df_grid.loc[i, \"CD8A\"] >= 2):\n",
    "        df_grid.loc[i, \"CXCL13-CD8+\"] = 1\n",
    "    \n",
    "\n",
    "df_grid = df_grid.fillna(0)\n",
    "\n",
    "# onehot encording\n",
    "df_grid_region_onehot = pd.get_dummies(\n",
    "    df_grid_region[\"region\"].dropna(), dtype=int\n",
    ")\n",
    "\n",
    "# 存在するものだけ\n",
    "df_grid_region_onehot = df_grid_region_onehot[df_grid_region_onehot.index.isin(df_grid.index)]\n",
    "\n",
    "df_grid_region_onehot = df_grid_region_onehot.loc[\n",
    "    :, df_shotest.dropna().region.value_counts()[df_shotest.dropna().region.value_counts() > 50].sort_index().index\n",
    "]\n",
    "\n",
    "# * 10\n",
    "df_grid_region_onehot.columns = [i*10 for i in df_shotest.dropna().region.value_counts()[df_shotest.dropna().region.value_counts() > 50].sort_index().index]\n",
    "\n",
    "minus_ls = []\n",
    "plus_ls = []\n",
    "\n",
    "for i in df_grid_region_onehot.columns:\n",
    "    df_temp_cxcl13_minus = df_grid.loc[df_grid_region_onehot.groupby(i).get_group(1).index, [\"CXCL13-CD8+\"]]\n",
    "    df_temp_cxcl13_plus = df_grid.loc[df_grid_region_onehot.groupby(i).get_group(1).index, [\"CXCL13+CD8+\"]]\n",
    "\n",
    "    minus_ls += [len(df_temp_cxcl13_minus[df_temp_cxcl13_minus[\"CXCL13-CD8+\"] == 1]) / len(df_temp_cxcl13_minus)]\n",
    "    plus_ls += [len(df_temp_cxcl13_plus[df_temp_cxcl13_plus[\"CXCL13+CD8+\"] == 1]) / len(df_temp_cxcl13_plus)]\n",
    "\n",
    "df_res = pd.DataFrame(\n",
    "    [minus_ls, plus_ls], \n",
    "    columns=df_grid_region_onehot.columns, \n",
    "    index=[\"CXCL13-CD8+\", \"CXCL13+CD8+\"]\n",
    ").T"
   ]
  },
  {
   "cell_type": "code",
   "execution_count": 119,
   "id": "86a5856a-99b1-44e5-823c-415b6d7c8798",
   "metadata": {},
   "outputs": [],
   "source": [
    "df_res_prop = df_res.apply(lambda x: x / sum(x))"
   ]
  },
  {
   "cell_type": "code",
   "execution_count": 176,
   "id": "d844f601-c2ec-465a-ad88-726c3ec1a966",
   "metadata": {},
   "outputs": [
    {
     "data": {
      "image/png": "[encoded data removed]",
      "text/plain": [
       "<Figure size 1100x500 with 1 Axes>"
      ]
     },
     "metadata": {},
     "output_type": "display_data"
    }
   ],
   "source": [
    "sns.set('talk', 'whitegrid', 'dark', font_scale=1.2,\n",
    "        rc={\"lines.linewidth\": 2, 'grid.linestyle': '--'})\n",
    "fig, ax = plt.subplots(figsize=(11, 5))\n",
    "\n",
    "df_res_prop.plot.bar(stacked=False, ax=ax, color=[\"#5B9BD5\", \"#FB00FF\"])\n",
    "ax.set_ylabel(\"Proportion\")\n",
    "ax.set_title(\"Distribution of each cell\")\n",
    "fig.autofmt_xdate(rotation=30)\n",
    "ax.xaxis.grid(False)\n",
    "plt.legend(loc='upper left', bbox_to_anchor=(1, 1), frameon=False)\n",
    "plt.tight_layout()\n",
    "plt.savefig(\"CXCL13CD8_grid_prop_region_prop.png\", dpi=500)"
   ]
  },
  {
   "cell_type": "code",
   "execution_count": null,
   "id": "88cb6832-4093-4bac-8e2f-10735e4d4c20",
   "metadata": {},
   "outputs": [],
   "source": []
  },
  {
   "cell_type": "code",
   "execution_count": null,
   "id": "499c191e-fd52-497d-b2f8-830eec98fef9",
   "metadata": {},
   "outputs": [],
   "source": []
  },
  {
   "cell_type": "code",
   "execution_count": null,
   "id": "bffaf9d3-fa7f-4d96-b969-d41c7fedba9c",
   "metadata": {},
   "outputs": [],
   "source": []
  }
 ],
 "metadata": {
  "kernelspec": {
   "display_name": "Python 3 (ipykernel)",
   "language": "python",
   "name": "python3"
  },
  "language_info": {
   "codemirror_mode": {
    "name": "ipython",
    "version": 3
   },
   "file_extension": ".py",
   "mimetype": "text/x-python",
   "name": "python",
   "nbconvert_exporter": "python",
   "pygments_lexer": "ipython3",
   "version": "3.8.17"
  }
 },
 "nbformat": 4,
 "nbformat_minor": 5
}
